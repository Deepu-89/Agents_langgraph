{
 "cells": [
  {
   "cell_type": "code",
   "execution_count": 1,
   "metadata": {},
   "outputs": [
    {
     "data": {
      "text/plain": [
       "True"
      ]
     },
     "execution_count": 1,
     "metadata": {},
     "output_type": "execute_result"
    }
   ],
   "source": [
    "import os\n",
    "from dotenv import load_dotenv,find_dotenv\n",
    "load_dotenv(find_dotenv())"
   ]
  },
  {
   "cell_type": "code",
   "execution_count": 2,
   "metadata": {},
   "outputs": [],
   "source": [
    "from langchain_groq import ChatGroq\n",
    "\n",
    "chat = ChatGroq(temperature=0, model=\"llama3-70b-8192\")\n"
   ]
  },
  {
   "cell_type": "code",
   "execution_count": 3,
   "metadata": {},
   "outputs": [],
   "source": [
    "from langchain import hub\n",
    "\n",
    "prompt = hub.pull(\"rlm/rag-prompt\")\n"
   ]
  },
  {
   "cell_type": "code",
   "execution_count": 4,
   "metadata": {},
   "outputs": [],
   "source": [
    "from langchain_community.document_loaders import PyPDFLoader\n",
    "\n",
    "# Load the PDF\n",
    "loader = PyPDFLoader(r\"C:\\Users\\Hp\\Documents\\vscode\\python\\Agents\\NCERT-Class-10-Economics.pdf\")\n",
    "data = loader.load()"
   ]
  },
  {
   "cell_type": "code",
   "execution_count": 11,
   "metadata": {},
   "outputs": [
    {
     "data": {
      "text/plain": [
       "268"
      ]
     },
     "execution_count": 11,
     "metadata": {},
     "output_type": "execute_result"
    }
   ],
   "source": [
    "from langchain_text_splitters import RecursiveCharacterTextSplitter\n",
    "\n",
    "text_splitter = RecursiveCharacterTextSplitter(\n",
    "    chunk_size=1000, chunk_overlap=200, add_start_index=True\n",
    ")\n",
    "docs = text_splitter.split_documents(data)\n",
    "\n",
    "len(docs)"
   ]
  },
  {
   "cell_type": "code",
   "execution_count": 7,
   "metadata": {},
   "outputs": [],
   "source": [
    "from langchain_huggingface import HuggingFaceEmbeddings\n",
    "embeddings = HuggingFaceEmbeddings(model_name=\"all-MiniLM-L6-v2\")\n",
    "# Equivalent to SentenceTransformerEmbeddings(model_name=\"all-MiniLM-L6-v2\")"
   ]
  },
  {
   "cell_type": "code",
   "execution_count": 12,
   "metadata": {},
   "outputs": [],
   "source": [
    "from langchain_chroma import Chroma\n",
    "db2 = Chroma.from_documents(docs, embeddings, persist_directory=\"./chroma_db\")\n"
   ]
  },
  {
   "cell_type": "code",
   "execution_count": 16,
   "metadata": {},
   "outputs": [
    {
     "data": {
      "text/plain": [
       "[Document(page_content='and the aspects that need to be looked at as a consumer. Design a poster for this.\\n2. Find out the nearest consumer court for your area.\\n3. What is the difference between consumer protection council and consumer court?4. The Consumer Protection Act 1986 ensures the following as rights which every\\nconsumer in India should possess\\n(i) Right to choice. (iv) Right to representation.\\n(ii) Right to information. (v) Right to safety.\\n(iii) Right to redressal. (vi) Right to consumer education.\\nCategorise the following cases under different heads and mark against each in\\nbrackets.\\n(a) Lata got an electric shock from a newly purchased iron. She complained to the\\nshopkeeper immediately. (      )\\n(b) John is dissatisfied with the services provided by MTNL for the past few months.\\nHe files a case in the District Level Consumer Forum.  (      )\\n(c) Your friend has been sold a medicine that has crossed the expiry date and you\\nare advising her to lodge a complaint (      ).', metadata={'page': 14, 'source': 'C:\\\\Users\\\\Hp\\\\Documents\\\\vscode\\\\python\\\\Agents\\\\NCERT-Class-10-Economics.pdf', 'start_index': 744}),\n",
       " Document(page_content='NOTES FOR THE TEACHER\\nThis chapter proposes to discuss the issue of\\nconsumer rights within the context of the ways\\nmarkets operate in our country. There are many\\naspects of unequal situations in a market andpoor enforcement of rules and regulations. Hence,\\nthere is a need to sensitise learners and encourage\\nthem to participate in the consumer movement.This chapter provides case histories – how some\\nconsumers were exploited  in a real life situation\\nand how legal institutions helped consumers  ingetting compensated and in upholding their rights\\nas consumers. The case histories would enable\\nthe students to link these narratives to their lifeexperiences. We have to enable students to\\nunderstand that the awareness of being a well-\\ninformed consumer arose out of consumermovement and active participation of people\\nthrough their struggles over a long period. This\\nchapter also provides details of a feworganisations helping consumers in different', metadata={'page': 2, 'source': 'C:\\\\Users\\\\Hp\\\\Documents\\\\vscode\\\\python\\\\Agents\\\\NCERT-Class-10-Economics.pdf', 'start_index': 0}),\n",
       " Document(page_content='of our rights? Look at the posters on\\nthe right and in the previous page.What do you think?\\nThe enactment of COPRA has led\\nto the setting up of separatedepartments of Consumer Affairs incentral and state governments. The\\nposters that you have seen are one\\nexample through which governmentspread information about legal\\nprocess which people can use.\\nYou might also be seeing suchadvertisements on television channels.\\nI nd Agm rkISI and Agmark d AgmI n  rkISI and Agmark\\nWhile buying many commodities, on thecover, you might have seen a logo with theletters ISI, Agmark or Hallmark. These\\nlogos and certification help consumers get\\nassured of quality while purchasing thegoods and services. The organisations that\\nmonitor and issue these certificates allow\\nproducers to use their logos provided theyfollow certain quality standards.\\nThough these organisations develop\\nquality standards for many products, it is\\nnot compulsory for all the producers tofollow standards. However, for some', metadata={'page': 13, 'source': 'C:\\\\Users\\\\Hp\\\\Documents\\\\vscode\\\\python\\\\Agents\\\\NCERT-Class-10-Economics.pdf', 'start_index': 0}),\n",
       " Document(page_content='all the responsibility on to the buyer.\\nTheir position usually is – “If youdidn’t like what you bought, please\\ngo elsewhere”. As if the seller has no\\nresponsibility once a sale iscompleted! The consumer movement,\\nas we shall discuss later, is an effort\\nto change this situation.\\nExploitation in the marketplace\\nhappens in various ways. For\\nexample, sometimes traders indulge\\nin unfair trade practices such as whenshopkeepers weigh less than what\\nthey should or when traders add\\ncharges that were not mentionedbefore, or when adulterated/defective\\ngoods are sold.\\nMarkets do not work in a fair\\nmanner when producers are few and\\npowerful whereas consumers\\npurchase in small amounts and are\\nscattered. This happens especiallywhen large companies are producing\\nthese goods. These companies with\\nhuge wealth, power and reach canmanipulate the market in various\\nways. At times false information is\\npassed on through the media, andother sources to attract consumers.\\nFor example, a company for years', metadata={'page': 4, 'source': 'C:\\\\Users\\\\Hp\\\\Documents\\\\vscode\\\\python\\\\Agents\\\\NCERT-Class-10-Economics.pdf', 'start_index': 1658})]"
      ]
     },
     "execution_count": 16,
     "metadata": {},
     "output_type": "execute_result"
    }
   ],
   "source": [
    "docs = db2.max_marginal_relevance_search('consumer rights',k=4)\n",
    "docs"
   ]
  },
  {
   "cell_type": "code",
   "execution_count": 23,
   "metadata": {},
   "outputs": [
    {
     "data": {
      "text/plain": [
       "{'page': 14,\n",
       " 'source': 'C:\\\\Users\\\\Hp\\\\Documents\\\\vscode\\\\python\\\\Agents\\\\NCERT-Class-10-Economics.pdf',\n",
       " 'start_index': 744}"
      ]
     },
     "execution_count": 23,
     "metadata": {},
     "output_type": "execute_result"
    }
   ],
   "source": [
    "docs[0].metadata"
   ]
  }
 ],
 "metadata": {
  "kernelspec": {
   "display_name": "Agents-J4JxA0rS",
   "language": "python",
   "name": "python3"
  },
  "language_info": {
   "codemirror_mode": {
    "name": "ipython",
    "version": 3
   },
   "file_extension": ".py",
   "mimetype": "text/x-python",
   "name": "python",
   "nbconvert_exporter": "python",
   "pygments_lexer": "ipython3",
   "version": "3.10.9"
  }
 },
 "nbformat": 4,
 "nbformat_minor": 2
}
